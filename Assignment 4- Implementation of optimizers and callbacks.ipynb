{
 "cells": [
  {
   "cell_type": "code",
   "execution_count": 1,
   "metadata": {},
   "outputs": [
    {
     "name": "stderr",
     "output_type": "stream",
     "text": [
      "Using TensorFlow backend.\n"
     ]
    }
   ],
   "source": [
    "import keras\n",
    "import os\n",
    "from keras.models import Sequential\n",
    "from keras.layers import Conv2D\n",
    "from keras.layers import MaxPooling2D\n",
    "from keras.layers import Flatten\n",
    "from keras.layers import Dense, Dropout, Activation\n",
    "from keras.preprocessing.image import ImageDataGenerator\n",
    "from keras.preprocessing import image\n",
    "from keras.optimizers import SGD\n",
    "from keras.optimizers import Adam\n",
    "from keras.optimizers import RMSprop\n",
    "from keras.optimizers import Nadam"
   ]
  },
  {
   "cell_type": "code",
   "execution_count": 3,
   "metadata": {},
   "outputs": [],
   "source": [
    "train_data_dir = 'E:/flipkart_classifier/train'\n",
    "test_data_dir  = 'E:/flipkart_classifier/test'"
   ]
  },
  {
   "cell_type": "code",
   "execution_count": 6,
   "metadata": {},
   "outputs": [
    {
     "name": "stdout",
     "output_type": "stream",
     "text": [
      "Model: \"sequential_1\"\n",
      "_________________________________________________________________\n",
      "Layer (type)                 Output Shape              Param #   \n",
      "=================================================================\n",
      "conv2d_1 (Conv2D)            (None, 62, 62, 32)        896       \n",
      "_________________________________________________________________\n",
      "conv2d_2 (Conv2D)            (None, 60, 60, 64)        18496     \n",
      "_________________________________________________________________\n",
      "max_pooling2d_1 (MaxPooling2 (None, 30, 30, 64)        0         \n",
      "_________________________________________________________________\n",
      "dropout_1 (Dropout)          (None, 30, 30, 64)        0         \n",
      "_________________________________________________________________\n",
      "conv2d_3 (Conv2D)            (None, 28, 28, 128)       73856     \n",
      "_________________________________________________________________\n",
      "max_pooling2d_2 (MaxPooling2 (None, 14, 14, 128)       0         \n",
      "_________________________________________________________________\n",
      "dropout_2 (Dropout)          (None, 14, 14, 128)       0         \n",
      "_________________________________________________________________\n",
      "flatten_1 (Flatten)          (None, 25088)             0         \n",
      "_________________________________________________________________\n",
      "dense_1 (Dense)              (None, 128)               3211392   \n",
      "_________________________________________________________________\n",
      "dropout_3 (Dropout)          (None, 128)               0         \n",
      "_________________________________________________________________\n",
      "dense_2 (Dense)              (None, 64)                8256      \n",
      "_________________________________________________________________\n",
      "dropout_4 (Dropout)          (None, 64)                0         \n",
      "_________________________________________________________________\n",
      "dense_3 (Dense)              (None, 1)                 65        \n",
      "=================================================================\n",
      "Total params: 3,312,961\n",
      "Trainable params: 3,312,961\n",
      "Non-trainable params: 0\n",
      "_________________________________________________________________\n",
      "None\n"
     ]
    }
   ],
   "source": [
    "# Initialising the CNN\n",
    "classifier = Sequential()\n",
    "\n",
    "# Step 1 - Convolution\n",
    "classifier.add(Conv2D(32, (3, 3), input_shape = (64, 64, 3), activation = 'relu'))\n",
    "\n",
    "classifier.add(Conv2D(64, (3, 3), activation = 'relu'))\n",
    "# Step 2 - Pooling\n",
    "classifier.add(MaxPooling2D(pool_size = (2, 2)))\n",
    "\n",
    "# Adding a Dropout layer\n",
    "classifier.add(Dropout(0.25))\n",
    "\n",
    "classifier.add(Conv2D(128, (3, 3), activation = 'relu'))\n",
    "\n",
    "classifier.add(MaxPooling2D(pool_size = (2, 2)))\n",
    "\n",
    "# Adding a Dropout layer\n",
    "classifier.add(Dropout(0.5))\n",
    "\n",
    "# Step 3 - Flattening\n",
    "classifier.add(Flatten())\n",
    "\n",
    "# Step 4 - Full connection\n",
    "classifier.add(Dense(units = 128, activation = 'relu'))\n",
    "classifier.add(Dropout(0.5))\n",
    "\n",
    "classifier.add(Dense(units = 64, activation = 'relu'))\n",
    "classifier.add(Dropout(0.5))\n",
    "\n",
    "\n",
    "classifier.add(Dense(units = 1, activation = 'sigmoid'))\n",
    "\n",
    "# Compiling the CNN\n",
    "classifier.compile(optimizer = SGD(0.01), loss = 'binary_crossentropy', metrics = ['accuracy'])\n",
    "\n",
    "print(classifier.summary())"
   ]
  },
  {
   "cell_type": "markdown",
   "metadata": {},
   "source": [
    "# Implementing our model with SGD and callbacks"
   ]
  },
  {
   "cell_type": "code",
   "execution_count": 11,
   "metadata": {},
   "outputs": [
    {
     "name": "stdout",
     "output_type": "stream",
     "text": [
      "Found 1200 images belonging to 2 classes.\n",
      "Found 40 images belonging to 2 classes.\n",
      "Epoch 1/20\n",
      "200/200 [==============================] - 447s 2s/step - loss: 0.4216 - accuracy: 0.8043 - val_loss: 0.1786 - val_accuracy: 0.7250\n",
      "\n",
      "Epoch 00001: val_loss improved from inf to 0.17857, saving model to E:/flipkart_classifier/flipkart_cnn_1.h5\n",
      "Epoch 2/20\n",
      "200/200 [==============================] - 442s 2s/step - loss: 0.3153 - accuracy: 0.8638 - val_loss: 0.2405 - val_accuracy: 0.7500\n",
      "\n",
      "Epoch 00002: val_loss did not improve from 0.17857\n",
      "Epoch 3/20\n",
      "200/200 [==============================] - 440s 2s/step - loss: 0.1930 - accuracy: 0.9215 - val_loss: 2.5780 - val_accuracy: 0.7000\n",
      "\n",
      "Epoch 00003: val_loss did not improve from 0.17857\n",
      "Epoch 4/20\n",
      "200/200 [==============================] - 443s 2s/step - loss: 0.1730 - accuracy: 0.9312 - val_loss: 0.7028 - val_accuracy: 0.8250\n",
      "\n",
      "Epoch 00004: val_loss did not improve from 0.17857\n",
      "Restoring model weights from the end of the best epoch\n",
      "\n",
      "Epoch 00004: ReduceLROnPlateau reducing learning rate to 0.0019999999552965165.\n",
      "Epoch 00004: early stopping\n"
     ]
    }
   ],
   "source": [
    "from keras.callbacks import ModelCheckpoint, EarlyStopping, ReduceLROnPlateau\n",
    "from keras import optimizers\n",
    "\n",
    "checkpoint= ModelCheckpoint(r\"E:/flipkart_classifier/flipkart_cnn_1.h5\",\n",
    "                           monitor= \"val_loss\",\n",
    "                           mode= \"min\",\n",
    "                           save_best_only= True,\n",
    "                           verbose=1)\n",
    "\n",
    "earlystop= EarlyStopping(monitor=\"val_loss\",\n",
    "                        min_delta=0,\n",
    "                        patience= 3,\n",
    "                        verbose= 1,\n",
    "                        restore_best_weights=True)\n",
    "\n",
    "reduce_lr = ReduceLROnPlateau(monitor=\"val_loss\",\n",
    "                             factor=0.2,\n",
    "                             patience=3,\n",
    "                             verbose= 1,\n",
    "                             min_delta=0.0001)\n",
    "\n",
    "callbacks= [checkpoint, earlystop, reduce_lr]\n",
    "\n",
    "sgd = optimizers.SGD(lr=0.01, decay=1e-6, momentum=0.9)\n",
    "classifier.compile(loss='binary_crossentropy',\n",
    "                  optimizer=sgd,\n",
    "                  metrics=['accuracy'])\n",
    "\n",
    "train_datagen = ImageDataGenerator(rescale = 1./255)\n",
    "\n",
    "test_datagen = ImageDataGenerator(rescale = 1./255)\n",
    "\n",
    "training_set = train_datagen.flow_from_directory('E:/flipkart_classifier/train',\n",
    "                                                 target_size = (64, 64),\n",
    "                                                 batch_size = 32,\n",
    "                                                 class_mode = 'binary')\n",
    "\n",
    "test_set = test_datagen.flow_from_directory('E:/flipkart_classifier/test',\n",
    "                                            target_size = (64, 64),\n",
    "                                            batch_size = 32,\n",
    "                                            class_mode = 'binary')\n",
    "\n",
    "model = classifier.fit_generator(training_set,\n",
    "                         steps_per_epoch = 200,\n",
    "                         epochs = 20,\n",
    "                         callbacks= callbacks,\n",
    "                         validation_data = test_set,    \n",
    "                         validation_steps = 100)\n",
    "                                "
   ]
  },
  {
   "cell_type": "markdown",
   "metadata": {},
   "source": [
    "# Implementing our CNN model with Nesterov Accelerated Gradient Descent"
   ]
  },
  {
   "cell_type": "code",
   "execution_count": 12,
   "metadata": {},
   "outputs": [
    {
     "name": "stdout",
     "output_type": "stream",
     "text": [
      "Found 1200 images belonging to 2 classes.\n",
      "Found 40 images belonging to 2 classes.\n",
      "Epoch 1/20\n",
      "200/200 [==============================] - 437s 2s/step - loss: 0.2781 - accuracy: 0.8809 - val_loss: 0.4489 - val_accuracy: 0.8250\n",
      "\n",
      "Epoch 00001: val_loss improved from inf to 0.44890, saving model to E:/flipkart_classifier/flipkart_cnn_2.h5\n",
      "Epoch 2/20\n",
      "200/200 [==============================] - 670s 3s/step - loss: 0.1930 - accuracy: 0.9209 - val_loss: 0.2257 - val_accuracy: 0.7500\n",
      "\n",
      "Epoch 00002: val_loss improved from 0.44890 to 0.22570, saving model to E:/flipkart_classifier/flipkart_cnn_2.h5\n",
      "Epoch 3/20\n",
      "200/200 [==============================] - 525s 3s/step - loss: 0.1968 - accuracy: 0.9231 - val_loss: 1.9701 - val_accuracy: 0.7750\n",
      "\n",
      "Epoch 00003: val_loss did not improve from 0.22570\n",
      "Epoch 4/20\n",
      "200/200 [==============================] - 414s 2s/step - loss: 0.1228 - accuracy: 0.9503 - val_loss: 0.6191 - val_accuracy: 0.7750\n",
      "\n",
      "Epoch 00004: val_loss did not improve from 0.22570\n",
      "Epoch 5/20\n",
      "200/200 [==============================] - 413s 2s/step - loss: 0.1056 - accuracy: 0.9592 - val_loss: 0.0725 - val_accuracy: 0.8250\n",
      "\n",
      "Epoch 00005: val_loss improved from 0.22570 to 0.07254, saving model to E:/flipkart_classifier/flipkart_cnn_2.h5\n",
      "Epoch 6/20\n",
      "200/200 [==============================] - 450s 2s/step - loss: 0.0756 - accuracy: 0.9714 - val_loss: 0.4145 - val_accuracy: 0.7500\n",
      "\n",
      "Epoch 00006: val_loss did not improve from 0.07254\n",
      "Epoch 7/20\n",
      "200/200 [==============================] - 450s 2s/step - loss: 0.0801 - accuracy: 0.9711 - val_loss: 1.2461 - val_accuracy: 0.8000\n",
      "\n",
      "Epoch 00007: val_loss did not improve from 0.07254\n",
      "Epoch 8/20\n",
      "200/200 [==============================] - 442s 2s/step - loss: 0.0502 - accuracy: 0.9828 - val_loss: 0.7205 - val_accuracy: 0.7750\n",
      "\n",
      "Epoch 00008: val_loss did not improve from 0.07254\n",
      "Restoring model weights from the end of the best epoch\n",
      "\n",
      "Epoch 00008: ReduceLROnPlateau reducing learning rate to 0.0019999999552965165.\n",
      "Epoch 00008: early stopping\n"
     ]
    }
   ],
   "source": [
    "checkpoint= ModelCheckpoint(r\"E:/flipkart_classifier/flipkart_cnn_2.h5\",\n",
    "                           monitor= \"val_loss\",\n",
    "                           mode= \"min\",\n",
    "                           save_best_only= True,\n",
    "                           verbose=1)\n",
    "\n",
    "earlystop= EarlyStopping(monitor=\"val_loss\",\n",
    "                        min_delta=0,\n",
    "                        patience= 3,\n",
    "                        verbose= 1,\n",
    "                        restore_best_weights=True)\n",
    "\n",
    "reduce_lr = ReduceLROnPlateau(monitor=\"val_loss\",\n",
    "                             factor=0.2,\n",
    "                             patience=3,\n",
    "                             verbose= 1,\n",
    "                             min_delta=0.0001)\n",
    "\n",
    "callbacks= [checkpoint, earlystop, reduce_lr]\n",
    "\n",
    "sgd = optimizers.SGD(lr=0.01, decay=1e-6, momentum=0.9, nesterov=True)\n",
    "classifier.compile(loss='binary_crossentropy',\n",
    "                  optimizer=sgd,\n",
    "                  metrics=['accuracy'])\n",
    "\n",
    "train_datagen = ImageDataGenerator(rescale = 1./255)\n",
    "\n",
    "test_datagen = ImageDataGenerator(rescale = 1./255)\n",
    "\n",
    "training_set = train_datagen.flow_from_directory('E:/flipkart_classifier/train',\n",
    "                                                 target_size = (64, 64),\n",
    "                                                 batch_size = 32,\n",
    "                                                 class_mode = 'binary')\n",
    "\n",
    "test_set = test_datagen.flow_from_directory('E:/flipkart_classifier/test',\n",
    "                                            target_size = (64, 64),\n",
    "                                            batch_size = 32,\n",
    "                                            class_mode = 'binary')\n",
    "\n",
    "model = classifier.fit_generator(training_set,\n",
    "                         steps_per_epoch = 200,\n",
    "                         epochs = 20,\n",
    "                         callbacks= callbacks,\n",
    "                         validation_data = test_set,    \n",
    "                         validation_steps = 100)"
   ]
  },
  {
   "cell_type": "markdown",
   "metadata": {},
   "source": [
    "# Implementing our model with RMSprop"
   ]
  },
  {
   "cell_type": "code",
   "execution_count": 16,
   "metadata": {},
   "outputs": [
    {
     "name": "stdout",
     "output_type": "stream",
     "text": [
      "Found 1200 images belonging to 2 classes.\n",
      "Found 40 images belonging to 2 classes.\n",
      "Epoch 1/20\n",
      "200/200 [==============================] - 990s 5s/step - loss: 0.1217 - accuracy: 0.9631 - val_loss: 0.8604 - val_accuracy: 0.7750\n",
      "\n",
      "Epoch 00001: val_loss improved from inf to 0.86037, saving model to E:/flipkart_classifier/flipkart_cnn_3.h5\n",
      "Epoch 2/20\n",
      "200/200 [==============================] - 1087s 5s/step - loss: 0.0601 - accuracy: 0.9783 - val_loss: 0.1929 - val_accuracy: 0.8000\n",
      "\n",
      "Epoch 00002: val_loss improved from 0.86037 to 0.19293, saving model to E:/flipkart_classifier/flipkart_cnn_3.h5\n",
      "Epoch 3/20\n",
      "200/200 [==============================] - 798s 4s/step - loss: 0.0488 - accuracy: 0.9833 - val_loss: 2.9731 - val_accuracy: 0.7750\n",
      "\n",
      "Epoch 00003: val_loss did not improve from 0.19293\n",
      "Epoch 4/20\n",
      "200/200 [==============================] - 946s 5s/step - loss: 0.0455 - accuracy: 0.9880 - val_loss: 2.4988 - val_accuracy: 0.7250\n",
      "\n",
      "Epoch 00004: val_loss did not improve from 0.19293\n",
      "Epoch 5/20\n",
      "200/200 [==============================] - 671s 3s/step - loss: 0.0517 - accuracy: 0.9892 - val_loss: 4.0251 - val_accuracy: 0.7500\n",
      "\n",
      "Epoch 00005: val_loss did not improve from 0.19293\n",
      "Restoring model weights from the end of the best epoch\n",
      "\n",
      "Epoch 00005: ReduceLROnPlateau reducing learning rate to 0.00020000000949949026.\n",
      "Epoch 00005: early stopping\n"
     ]
    }
   ],
   "source": [
    "checkpoint= ModelCheckpoint(r\"E:/flipkart_classifier/flipkart_cnn_3.h5\",\n",
    "                           monitor= \"val_loss\",\n",
    "                           mode= \"min\",\n",
    "                           save_best_only= True,\n",
    "                           verbose=1)\n",
    "\n",
    "earlystop= EarlyStopping(monitor=\"val_loss\",\n",
    "                        min_delta=0,\n",
    "                        patience= 3,\n",
    "                        verbose= 1,\n",
    "                        restore_best_weights=True)\n",
    "\n",
    "reduce_lr = ReduceLROnPlateau(monitor=\"val_loss\",\n",
    "                             factor=0.2,\n",
    "                             patience=3,\n",
    "                             verbose= 1,\n",
    "                             min_delta=0.0001)\n",
    "\n",
    "callbacks= [checkpoint, earlystop, reduce_lr]\n",
    "\n",
    "rms = optimizers.RMSprop(lr=0.001, rho=0.9, epsilon=1e-07)\n",
    "classifier.compile(loss='binary_crossentropy',\n",
    "                  optimizer=rms,\n",
    "                  metrics=['accuracy'])\n",
    "\n",
    "train_datagen = ImageDataGenerator(rescale = 1./255)\n",
    "\n",
    "test_datagen = ImageDataGenerator(rescale = 1./255)\n",
    "\n",
    "training_set = train_datagen.flow_from_directory('E:/flipkart_classifier/train',\n",
    "                                                 target_size = (64, 64),\n",
    "                                                 batch_size = 32,\n",
    "                                                 class_mode = 'binary')\n",
    "\n",
    "test_set = test_datagen.flow_from_directory('E:/flipkart_classifier/test',\n",
    "                                            target_size = (64, 64),\n",
    "                                            batch_size = 32,\n",
    "                                            class_mode = 'binary')\n",
    "\n",
    "model = classifier.fit_generator(training_set,\n",
    "                         steps_per_epoch = 200,\n",
    "                         epochs = 20,\n",
    "                         callbacks= callbacks,\n",
    "                         validation_data = test_set,    \n",
    "                         validation_steps = 100)"
   ]
  },
  {
   "cell_type": "code",
   "execution_count": 19,
   "metadata": {},
   "outputs": [
    {
     "data": {
      "image/png": "[encoded data removed]",
      "text/plain": [
       "<Figure size 432x288 with 1 Axes>"
      ]
     },
     "metadata": {},
     "output_type": "display_data"
    }
   ],
   "source": [
    "#Plotting our loss & Accuracy Charts\n",
    "import matplotlib.pyplot as plt\n",
    "\n",
    "history_dict = model.history\n",
    "\n",
    "loss_values= history_dict['loss']\n",
    "val_loss_values= history_dict['val_loss']\n",
    "epochs= range(1,len(loss_values)+1)\n",
    "\n",
    "line1= plt.plot(epochs,val_loss_values, label='Validation/Test loss')\n",
    "line2= plt.plot(epochs, loss_values, label='Training loss')\n",
    "plt.setp(line1, linewidth=2.0, marker='+', markersize=10.0)\n",
    "plt.setp(line2, linewidth=2.0, marker='4', markersize=10.0)\n",
    "plt.xlabel('Epochs')\n",
    "plt.ylabel('Loss')\n",
    "plt.grid(True)\n",
    "plt.legend()\n",
    "plt.show()"
   ]
  },
  {
   "cell_type": "code",
   "execution_count": 20,
   "metadata": {},
   "outputs": [
    {
     "data": {
      "image/png": "[encoded data removed]",
      "text/plain": [
       "<Figure size 432x288 with 1 Axes>"
      ]
     },
     "metadata": {},
     "output_type": "display_data"
    }
   ],
   "source": [
    "history_dict = model.history\n",
    "\n",
    "acc_values= history_dict['accuracy']\n",
    "val_acc_values= history_dict['val_accuracy']\n",
    "epochs= range(1,len(loss_values)+1)\n",
    "\n",
    "line1= plt.plot(epochs,val_acc_values, label='Validation/Test accuracy')\n",
    "line2= plt.plot(epochs, acc_values, label='Training accuracy')\n",
    "plt.setp(line1, linewidth=2.0, marker='+', markersize=10.0)\n",
    "plt.setp(line2, linewidth=2.0, marker='4', markersize=10.0)\n",
    "plt.xlabel('Epochs')\n",
    "plt.ylabel('Accuracy')\n",
    "plt.grid(True)\n",
    "plt.legend()\n",
    "plt.show()"
   ]
  },
  {
   "cell_type": "markdown",
   "metadata": {},
   "source": [
    "# Implementing our CNN model with Adam optimizer"
   ]
  },
  {
   "cell_type": "code",
   "execution_count": 21,
   "metadata": {},
   "outputs": [
    {
     "name": "stdout",
     "output_type": "stream",
     "text": [
      "Found 1200 images belonging to 2 classes.\n",
      "Found 40 images belonging to 2 classes.\n",
      "Epoch 1/20\n",
      "200/200 [==============================] - 662s 3s/step - loss: 0.0713 - accuracy: 0.9782 - val_loss: 3.0733e-05 - val_accuracy: 0.8250\n",
      "\n",
      "Epoch 00001: val_loss improved from inf to 0.00003, saving model to E:/flipkart_classifier/flipkart_cnn_4.h5\n",
      "Epoch 2/20\n",
      "200/200 [==============================] - 636s 3s/step - loss: 0.0373 - accuracy: 0.9877 - val_loss: 1.5541 - val_accuracy: 0.6750\n",
      "\n",
      "Epoch 00002: val_loss did not improve from 0.00003\n",
      "Epoch 3/20\n",
      "200/200 [==============================] - 432s 2s/step - loss: 0.0428 - accuracy: 0.9864 - val_loss: 5.4596 - val_accuracy: 0.8250\n",
      "\n",
      "Epoch 00003: val_loss did not improve from 0.00003\n",
      "Epoch 4/20\n",
      "200/200 [==============================] - 437s 2s/step - loss: 0.0295 - accuracy: 0.9922 - val_loss: 1.6404 - val_accuracy: 0.7250\n",
      "\n",
      "Epoch 00004: val_loss did not improve from 0.00003\n",
      "Restoring model weights from the end of the best epoch\n",
      "\n",
      "Epoch 00004: ReduceLROnPlateau reducing learning rate to 0.00020000000949949026.\n",
      "Epoch 00004: early stopping\n"
     ]
    }
   ],
   "source": [
    "checkpoint= ModelCheckpoint(r\"E:/flipkart_classifier/flipkart_cnn_4.h5\",\n",
    "                           monitor= \"val_loss\",\n",
    "                           mode= \"min\",\n",
    "                           save_best_only= True,\n",
    "                           verbose=1)\n",
    "\n",
    "earlystop= EarlyStopping(monitor=\"val_loss\",\n",
    "                        min_delta=0,\n",
    "                        patience= 3,\n",
    "                        verbose= 1,\n",
    "                        restore_best_weights=True)\n",
    "\n",
    "reduce_lr = ReduceLROnPlateau(monitor=\"val_loss\",\n",
    "                             factor=0.2,\n",
    "                             patience=3,\n",
    "                             verbose= 1,\n",
    "                             min_delta=0.0001)\n",
    "\n",
    "callbacks= [checkpoint, earlystop, reduce_lr]\n",
    "\n",
    "adam = optimizers.Adam(lr=0.001, beta_1=0.9, beta_2=0.999, epsilon=1e-07, amsgrad=False)\n",
    "classifier.compile(loss='binary_crossentropy',\n",
    "                  optimizer=adam,\n",
    "                  metrics=['accuracy'])\n",
    "\n",
    "train_datagen = ImageDataGenerator(rescale = 1./255)\n",
    "\n",
    "test_datagen = ImageDataGenerator(rescale = 1./255)\n",
    "\n",
    "training_set = train_datagen.flow_from_directory('E:/flipkart_classifier/train',\n",
    "                                                 target_size = (64, 64),\n",
    "                                                 batch_size = 32,\n",
    "                                                 class_mode = 'binary')\n",
    "\n",
    "test_set = test_datagen.flow_from_directory('E:/flipkart_classifier/test',\n",
    "                                            target_size = (64, 64),\n",
    "                                            batch_size = 32,\n",
    "                                            class_mode = 'binary')\n",
    "\n",
    "model = classifier.fit_generator(training_set,\n",
    "                         steps_per_epoch = 200,\n",
    "                         epochs = 20,\n",
    "                         callbacks= callbacks,\n",
    "                         validation_data = test_set,    \n",
    "                         validation_steps = 100)"
   ]
  },
  {
   "cell_type": "code",
   "execution_count": 22,
   "metadata": {},
   "outputs": [
    {
     "data": {
      "image/png": "[encoded data removed]",
      "text/plain": [
       "<Figure size 432x288 with 1 Axes>"
      ]
     },
     "metadata": {},
     "output_type": "display_data"
    }
   ],
   "source": [
    "#Plotting our loss & Accuracy Charts\n",
    "import matplotlib.pyplot as plt\n",
    "\n",
    "history_dict = model.history\n",
    "\n",
    "loss_values= history_dict['loss']\n",
    "val_loss_values= history_dict['val_loss']\n",
    "epochs= range(1,len(loss_values)+1)\n",
    "\n",
    "line1= plt.plot(epochs,val_loss_values, label='Validation/Test loss')\n",
    "line2= plt.plot(epochs, loss_values, label='Training loss')\n",
    "plt.setp(line1, linewidth=2.0, marker='+', markersize=10.0)\n",
    "plt.setp(line2, linewidth=2.0, marker='4', markersize=10.0)\n",
    "plt.xlabel('Epochs')\n",
    "plt.ylabel('Loss')\n",
    "plt.grid(True)\n",
    "plt.legend()\n",
    "plt.show()"
   ]
  },
  {
   "cell_type": "code",
   "execution_count": 23,
   "metadata": {},
   "outputs": [
    {
     "data": {
      "image/png": "[encoded data removed]",
      "text/plain": [
       "<Figure size 432x288 with 1 Axes>"
      ]
     },
     "metadata": {},
     "output_type": "display_data"
    }
   ],
   "source": [
    "history_dict = model.history\n",
    "\n",
    "acc_values= history_dict['accuracy']\n",
    "val_acc_values= history_dict['val_accuracy']\n",
    "epochs= range(1,len(loss_values)+1)\n",
    "\n",
    "line1= plt.plot(epochs,val_acc_values, label='Validation/Test accuracy')\n",
    "line2= plt.plot(epochs, acc_values, label='Training accuracy')\n",
    "plt.setp(line1, linewidth=2.0, marker='+', markersize=10.0)\n",
    "plt.setp(line2, linewidth=2.0, marker='4', markersize=10.0)\n",
    "plt.xlabel('Epochs')\n",
    "plt.ylabel('Accuracy')\n",
    "plt.grid(True)\n",
    "plt.legend()\n",
    "plt.show()"
   ]
  },
  {
   "cell_type": "markdown",
   "metadata": {},
   "source": [
    "# Implementing our CNN model with Nadam optimizer"
   ]
  },
  {
   "cell_type": "code",
   "execution_count": 24,
   "metadata": {},
   "outputs": [
    {
     "name": "stdout",
     "output_type": "stream",
     "text": [
      "Found 1200 images belonging to 2 classes.\n",
      "Found 40 images belonging to 2 classes.\n",
      "Epoch 1/20\n",
      "200/200 [==============================] - 591s 3s/step - loss: 0.0419 - accuracy: 0.9866 - val_loss: 1.6603 - val_accuracy: 0.6750\n",
      "\n",
      "Epoch 00001: val_loss improved from inf to 1.66034, saving model to E:/flipkart_classifier/flipkart_cnn_5.h5\n",
      "Epoch 2/20\n",
      "200/200 [==============================] - 512s 3s/step - loss: 0.0462 - accuracy: 0.9878 - val_loss: 0.4522 - val_accuracy: 0.7500\n",
      "\n",
      "Epoch 00002: val_loss improved from 1.66034 to 0.45223, saving model to E:/flipkart_classifier/flipkart_cnn_5.h5\n",
      "Epoch 3/20\n",
      "200/200 [==============================] - 463s 2s/step - loss: 0.0197 - accuracy: 0.9940 - val_loss: 10.9251 - val_accuracy: 0.7500\n",
      "\n",
      "Epoch 00003: val_loss did not improve from 0.45223\n",
      "Epoch 4/20\n",
      "200/200 [==============================] - 455s 2s/step - loss: 0.0112 - accuracy: 0.9972 - val_loss: 13.0657 - val_accuracy: 0.7250\n",
      "\n",
      "Epoch 00004: val_loss did not improve from 0.45223\n",
      "Epoch 5/20\n",
      "200/200 [==============================] - 462s 2s/step - loss: 0.0191 - accuracy: 0.9941 - val_loss: 0.5282 - val_accuracy: 0.7000\n",
      "\n",
      "Epoch 00005: val_loss did not improve from 0.45223\n",
      "Restoring model weights from the end of the best epoch\n",
      "\n",
      "Epoch 00005: ReduceLROnPlateau reducing learning rate to 0.00020000000949949026.\n",
      "Epoch 00005: early stopping\n"
     ]
    }
   ],
   "source": [
    "checkpoint= ModelCheckpoint(r\"E:/flipkart_classifier/flipkart_cnn_5.h5\",\n",
    "                           monitor= \"val_loss\",\n",
    "                           mode= \"min\",\n",
    "                           save_best_only= True,\n",
    "                           verbose=1)\n",
    "\n",
    "earlystop= EarlyStopping(monitor=\"val_loss\",\n",
    "                        min_delta=0,\n",
    "                        patience= 3,\n",
    "                        verbose= 1,\n",
    "                        restore_best_weights=True)\n",
    "\n",
    "reduce_lr = ReduceLROnPlateau(monitor=\"val_loss\",\n",
    "                             factor=0.2,\n",
    "                             patience=3,\n",
    "                             verbose= 1,\n",
    "                             min_delta=0.0001)\n",
    "\n",
    "callbacks= [checkpoint, earlystop, reduce_lr]\n",
    "\n",
    "nadam = optimizers.Nadam(lr=0.001, beta_1=0.9, beta_2=0.999, epsilon=1e-07)\n",
    "classifier.compile(loss='binary_crossentropy',\n",
    "                  optimizer=nadam,\n",
    "                  metrics=['accuracy'])\n",
    "\n",
    "train_datagen = ImageDataGenerator(rescale = 1./255)\n",
    "\n",
    "test_datagen = ImageDataGenerator(rescale = 1./255)\n",
    "\n",
    "training_set = train_datagen.flow_from_directory('E:/flipkart_classifier/train',\n",
    "                                                 target_size = (64, 64),\n",
    "                                                 batch_size = 32,\n",
    "                                                 class_mode = 'binary')\n",
    "\n",
    "test_set = test_datagen.flow_from_directory('E:/flipkart_classifier/test',\n",
    "                                            target_size = (64, 64),\n",
    "                                            batch_size = 32,\n",
    "                                            class_mode = 'binary')\n",
    "\n",
    "model = classifier.fit_generator(training_set,\n",
    "                         steps_per_epoch = 200,\n",
    "                         epochs = 20,\n",
    "                         callbacks= callbacks,\n",
    "                         validation_data = test_set,    \n",
    "                         validation_steps = 100)"
   ]
  },
  {
   "cell_type": "code",
   "execution_count": null,
   "metadata": {},
   "outputs": [],
   "source": []
  }
 ],
 "metadata": {
  "kernelspec": {
   "display_name": "Python 3",
   "language": "python",
   "name": "python3"
  },
  "language_info": {
   "codemirror_mode": {
    "name": "ipython",
    "version": 3
   },
   "file_extension": ".py",
   "mimetype": "text/x-python",
   "name": "python",
   "nbconvert_exporter": "python",
   "pygments_lexer": "ipython3",
   "version": "3.6.5"
  }
 },
 "nbformat": 4,
 "nbformat_minor": 2
}
